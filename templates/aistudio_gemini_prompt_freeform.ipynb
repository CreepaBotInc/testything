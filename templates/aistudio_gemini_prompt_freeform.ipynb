{
  "cells": [
    {
      "cell_type": "markdown",
      "metadata": {
        "id": "Tce3stUlHN0L"
      },
      "source": [
        "##### Copyright 2023 Google LLC"
      ]
    },
    {
      "cell_type": "code",
      "execution_count": null,
      "metadata": {
        "cellView": "form",
        "id": "tuOe1ymfHZPu"
      },
      "outputs": [],
      "source": [
        "# @title Licensed under the Apache License, Version 2.0 (the \"License\");\n",
        "# you may not use this file except in compliance with the License.\n",
        "# You may obtain a copy of the License at\n",
        "#\n",
        "# https://www.apache.org/licenses/LICENSE-2.0\n",
        "#\n",
        "# Unless required by applicable law or agreed to in writing, software\n",
        "# distributed under the License is distributed on an \"AS IS\" BASIS,\n",
        "# WITHOUT WARRANTIES OR CONDITIONS OF ANY KIND, either express or implied.\n",
        "# See the License for the specific language governing permissions and\n",
        "# limitations under the License."
      ]
    },
    {
      "cell_type": "markdown",
      "metadata": {
        "id": "FKwyTRdwB8aW"
      },
      "source": [
        "## Setup"
      ]
    },
    {
      "cell_type": "code",
      "execution_count": 4,
      "metadata": {
        "id": "kWIuwKG2_oWE",
        "colab": {
          "base_uri": "https://localhost:8080/"
        },
        "outputId": "0955f6dd-b338-4319-dd87-c8d4ab1a0fdc"
      },
      "outputs": [
        {
          "output_type": "stream",
          "name": "stdout",
          "text": [
            "[\n",
            "    {\n",
            "        \"role\": \"user\",\n",
            "        \"parts\": [\n",
            "            {\n",
            "                \"text\": \"what is chikn nuggit\"\n",
            "            }\n",
            "        ]\n",
            "    },\n",
            "    {\n",
            "        \"role\": \"model\",\n",
            "        \"parts\": [\n",
            "            {\n",
            "                \"text\": \"Chikn Nuggit is an animated web series created by Kyra Kupetsky, featuring a quirky, long-eared yellow dog of the same name and his friends, who also have fast-food-inspired names.  The series is known for its comedic, often surreal, and sometimes spooky adventures.  The episodes are short, typically lasting between 15 and 20 seconds each.\\\\n\\\\nThe series premiered in October 2020 on platforms like TikTok, X (formerly Twitter), Instagram, and later YouTube.  It quickly gained popularity, amassing over 8 million followers and a billion views across these platforms as of 2023. Chikn Nuggit has also expanded into merchandise.  A longer-form animated series is currently in development as of June 2023, as a collaboration between BuzzFeed Animation Lab and Frederator Network.\\\\n\\\\nBeyond the humor, Chikn Nuggit also incorporates themes of inclusivity and self-acceptance, with many characters identifying as LGBTQ+.  Several episodes explore storylines related to personal identity and relationships. The main character, Chikn Nuggit, is eventually revealed to be the Demigod of Chaos, destined to break the fabric of reality, a destiny he ultimately rejects.\\\\n\"\n",
            "            }\n",
            "        ]\n",
            "    },\n",
            "    {\n",
            "        \"role\": \"user\",\n",
            "        \"parts\": [\n",
            "            {\n",
            "                \"text\": \"describe Iscream from the series Chikn Nuggit\"\n",
            "            }\n",
            "        ]\n",
            "    },\n",
            "    {\n",
            "        \"role\": \"model\",\n",
            "        \"parts\": [\n",
            "            {\n",
            "                \"text\": \"Iscream, voiced by Nate Charpentier, is a character in the Chikn Nuggit series.  They appear as an adorable, pink and white rabbit but are secretly a terrifying, genderless demon.  Their real name isn't actually \\\\\\\"Iscream,\\\\\\\" and they revel in causing chaos. Iscream is Fwench Fwy's partner.\\\\n\"\n",
            "            }\n",
            "        ]\n",
            "    },\n",
            "    {\n",
            "        \"role\": \"user\",\n",
            "        \"parts\": [\n",
            "            {\n",
            "                \"text\": \"expand upon this description of Iscream\"\n",
            "            }\n",
            "        ]\n",
            "    },\n",
            "    {\n",
            "        \"role\": \"model\",\n",
            "        \"parts\": [\n",
            "            {\n",
            "                \"text\": \"Iscream is a main character in the *Chikn Nuggit* web series, voiced by Nate Charpentier. While appearing as a cute, pink and white bunny rabbit with unsettlingly large, red eyes, Iscream is secretly a terrifying, genderless demon whose true name is unknown. They delight in sowing chaos and are known for their mischievous nature.  Despite their demonic nature and love of mayhem, Iscream is portrayed as genuinely friendly and is in a relationship with another main character, Fwench Fwy.  They are often seen together, adding another layer of intrigue to their demonic persona.\\\\n\"\n",
            "            }\n",
            "        ]\n",
            "    },\n",
            "    {\n",
            "        \"role\": \"user\",\n",
            "        \"parts\": [\n",
            "            {\n",
            "                \"text\": \"describe how Iscream may interact with Fwench Fwy\"\n",
            "            }\n",
            "        ]\n",
            "    },\n",
            "    {\n",
            "        \"role\": \"model\",\n",
            "        \"parts\": [\n",
            "            {\n",
            "                \"text\": \"Iscream and Fwench Fwy's interactions are a mix of chaotic energy and surprisingly sweet moments.  You'll often see them engaging in:\\\\n\\\\n* **Mischief and Pranks:**  They love to team up for pranks and general mayhem, often targeting Chikn Nuggit or other characters.  Iscream's demonic abilities come in handy here, while Fwench Fwy contributes with their enthusiasm and sometimes-questionable ideas.\\\\n\\\\n* **Affectionate Displays:**  Despite their chaotic nature, they're clearly very fond of each other. They might hold hands (or paws), nuzzle, or exchange affectionate glances.  These moments offer a stark contrast to their more mischievous antics.\\\\n\\\\n* **Supportive Camaraderie:**  They're supportive of each other's endeavors, even if those endeavors involve causing a bit of trouble.  They often egg each other on, but in a playful and affectionate way.\\\\n\\\\n* **Playful Banter:**  They engage in lighthearted teasing and jokes, demonstrating a comfortable and familiar dynamic.  This banter can sometimes be a bit dark, given Iscream's demonic nature, but it always comes across as good-natured.\\\\n\\\\n* **Shared Interests:** While their interests might sometimes involve causing minor chaos, they also enjoy simple things together, like hanging out with friends or participating in activities.\\\\n\\\\nEssentially, their relationship is a complex mix of chaotic energy, genuine affection, and supportive companionship.  They're partners in crime, but also partners in a more traditional sense, caring for each other despite (or perhaps because of) their shared love of mayhem.\\\\n\"\n",
            "            }\n",
            "        ]\n",
            "    }\n",
            "]\n"
          ]
        }
      ],
      "source": [
        "# import necessary modules.\n",
        "import base64\n",
        "import copy\n",
        "import json\n",
        "import pathlib\n",
        "import requests\n",
        "\n",
        "\n",
        "import PIL.Image\n",
        "import IPython.display\n",
        "from IPython.display import Markdown\n",
        "\n",
        "try:\n",
        "    # The SDK will automatically read it from the GOOGLE_API_KEY environment variable.\n",
        "    # In Colab get the key from Colab-secrets (\"🔑\" in the left panel).\n",
        "    import os\n",
        "    from google.colab import userdata\n",
        "\n",
        "    os.environ[\"GOOGLE_API_KEY\"] = userdata.get(\"GOOGLE_API_KEY\")\n",
        "except ImportError:\n",
        "    pass\n",
        "\n",
        "import google.generativeai as genai\n",
        "\n",
        "# Parse the arguments\n",
        "\n",
        "model = genai.GenerativeModel(model_name=\"gemini-1.5-flash-exp-0827\")\n",
        "contents_b64 = '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' # @param {isTemplate: true}\n",
        "generation_config_b64 = 'eyJ0ZW1wZXJhdHVyZSI6MSwidG9wX3AiOjAuOTUsInRvcF9rIjo0MCwibWF4X291dHB1dF90b2tlbnMiOjgxOTJ9' # @param {isTemplate: true}\n",
        "safety_settings_b64 = \"e30=\"  # @param {isTemplate: true}\n",
        "\n",
        "gais_contents = json.loads(base64.b64decode(contents_b64))\n",
        "\n",
        "generation_config = json.loads(base64.b64decode(generation_config_b64))\n",
        "safety_settings = json.loads(base64.b64decode(safety_settings_b64))\n",
        "\n",
        "stream = False\n",
        "\n",
        "# Convert and upload the files\n",
        "\n",
        "tempfiles = pathlib.Path(f\"tempfiles\")\n",
        "tempfiles.mkdir(parents=True, exist_ok=True)\n",
        "\n",
        "\n",
        "drive = None\n",
        "def upload_file_data(file_data, index):\n",
        "    \"\"\"Upload files to the Files API.\n",
        "\n",
        "    For each file, Google AI Studio either sent:\n",
        "    - a Google Drive ID,\n",
        "    - a URL,\n",
        "    - a file path, or\n",
        "    - The raw bytes (`inline_data`).\n",
        "\n",
        "    The API only understands `inline_data` or it's Files API.\n",
        "    This code, uploads files to the files API where the API can access them.\n",
        "    \"\"\"\n",
        "\n",
        "    mime_type = file_data[\"mime_type\"]\n",
        "    if drive_id := file_data.pop(\"drive_id\", None):\n",
        "        if drive is None:\n",
        "          from google.colab import drive\n",
        "          drive.mount(\"/gdrive\")\n",
        "\n",
        "        path = next(\n",
        "            pathlib.Path(f\"/gdrive/.shortcut-targets-by-id/{drive_id}\").glob(\"*\")\n",
        "        )\n",
        "        print(\"Uploading:\", str(path))\n",
        "        file_info = genai.upload_file(path=path, mime_type=mime_type)\n",
        "        file_data[\"file_uri\"] = file_info.uri\n",
        "        return\n",
        "\n",
        "    if url := file_data.pop(\"url\", None):\n",
        "        response = requests.get(url)\n",
        "        data = response.content\n",
        "        name = url.split(\"/\")[-1]\n",
        "        path = tempfiles / str(index)\n",
        "        path.write_bytes(data)\n",
        "        print(\"Uploading:\", url)\n",
        "        file_info = genai.upload_file(path, display_name=name, mime_type=mime_type)\n",
        "        file_data[\"file_uri\"] = file_info.uri\n",
        "        return\n",
        "\n",
        "    if name := file_data.get(\"filename\", None):\n",
        "        if not pathlib.Path(name).exists():\n",
        "            raise IOError(\n",
        "                f\"local file: `{name}` does not exist. You can upload files \"\n",
        "                'to Colab using the file manager (\"📁 Files\" in the left '\n",
        "                \"toolbar)\"\n",
        "            )\n",
        "        file_info = genai.upload_file(path, display_name=name, mime_type=mime_type)\n",
        "        file_data[\"file_uri\"] = file_info.uri\n",
        "        return\n",
        "\n",
        "    if \"inline_data\" in file_data:\n",
        "        return\n",
        "\n",
        "    raise ValueError(\"Either `drive_id`, `url` or `inline_data` must be provided.\")\n",
        "\n",
        "\n",
        "contents = copy.deepcopy(gais_contents)\n",
        "\n",
        "index = 0\n",
        "for content in contents:\n",
        "    for n, part in enumerate(content[\"parts\"]):\n",
        "        if file_data := part.get(\"file_data\", None):\n",
        "            upload_file_data(file_data, index)\n",
        "            index += 1\n",
        "\n",
        "import json\n",
        "print(json.dumps(contents, indent=4))"
      ]
    },
    {
      "cell_type": "markdown",
      "metadata": {
        "id": "E7zAD69vE92b"
      },
      "source": [
        "## Call `generate_content`"
      ]
    },
    {
      "cell_type": "code",
      "execution_count": null,
      "metadata": {
        "id": "RXInneX6xx7c"
      },
      "outputs": [],
      "source": [
        "!pip install -U -q \"google-generativeai>=0.8.2\""
      ]
    },
    {
      "cell_type": "code",
      "execution_count": 7,
      "metadata": {
        "id": "LB2LxPmAB95V",
        "colab": {
          "base_uri": "https://localhost:8080/",
          "height": 64
        },
        "outputId": "565aff59-1163-477c-df0e-1aad6cd94f20"
      },
      "outputs": [
        {
          "output_type": "display_data",
          "data": {
            "text/plain": [
              "<IPython.core.display.Markdown object>"
            ],
            "text/markdown": "Iscream's chaotic and often unsettling nature adds a unique dynamic to their interactions with Fwench Fwy. It's this duality that makes their relationship so intriguing and unique within the Chikn Nuggit universe. \n"
          },
          "metadata": {}
        }
      ],
      "source": [
        "from IPython.display import display\n",
        "from IPython.display import Markdown\n",
        "\n",
        "# Call the model and print the response.\n",
        "gemini = genai.GenerativeModel(model_name=\"gemini-1.5-flash-exp-0827\")\n",
        "\n",
        "response = gemini.generate_content(\n",
        "    contents,\n",
        "    generation_config=generation_config,\n",
        "    stream=stream,\n",
        ")\n",
        "\n",
        "display(Markdown(response.text))"
      ]
    },
    {
      "cell_type": "markdown",
      "metadata": {
        "id": "9c9d345e9868"
      },
      "source": [
        "<table class=\"tfo-notebook-buttons\" align=\"left\">\n",
        "  <td>\n",
        "    <a target=\"_blank\" href=\"https://ai.google.dev/gemini-api/docs\"><img src=\"https://ai.google.dev/static/site-assets/images/docs/notebook-site-button.png\" height=\"32\" width=\"32\" />Docs on ai.google.dev</a>\n",
        "  </td>\n",
        "  <td>\n",
        "    <a target=\"_blank\" href=\"https://github.com/google-gemini/cookbook/blob/main/quickstarts\"><img src=\"https://www.tensorflow.org/images/GitHub-Mark-32px.png\" />More notebooks in the Cookbook</a>\n",
        "  </td>\n",
        "</table>"
      ]
    },
    {
      "cell_type": "markdown",
      "metadata": {
        "id": "F91AeeGO1ncU"
      },
      "source": [
        "## [optional] Show the conversation\n",
        "\n",
        "This section displays the conversation received from Google AI Studio."
      ]
    },
    {
      "cell_type": "code",
      "execution_count": 9,
      "metadata": {
        "cellView": "form",
        "id": "yoL3p3KPylFW",
        "colab": {
          "base_uri": "https://localhost:8080/"
        },
        "outputId": "e1827fa2-5ba7-40d3-c4ce-e24bac116b8a"
      },
      "outputs": [
        {
          "output_type": "stream",
          "name": "stdout",
          "text": [
            "Role: user \n",
            "\n",
            "what is chikn nuggit \n",
            "\n",
            "-------------------------------------------------------------------------------- \n",
            "\n",
            "Role: model \n",
            "\n",
            "Chikn Nuggit is an animated web series created by Kyra Kupetsky, featuring a quirky, long-eared yellow dog of the same name and his friends, who also have fast-food-inspired names.  The series is known for its comedic, often surreal, and sometimes spooky adventures.  The episodes are short, typically lasting between 15 and 20 seconds each.\\n\\nThe series premiered in October 2020 on platforms like TikTok, X (formerly Twitter), Instagram, and later YouTube.  It quickly gained popularity, amassing over 8 million followers and a billion views across these platforms as of 2023. Chikn Nuggit has also expanded into merchandise.  A longer-form animated series is currently in development as of June 2023, as a collaboration between BuzzFeed Animation Lab and Frederator Network.\\n\\nBeyond the humor, Chikn Nuggit also incorporates themes of inclusivity and self-acceptance, with many characters identifying as LGBTQ+.  Several episodes explore storylines related to personal identity and relationships. The main character, Chikn Nuggit, is eventually revealed to be the Demigod of Chaos, destined to break the fabric of reality, a destiny he ultimately rejects.\\n \n",
            "\n",
            "-------------------------------------------------------------------------------- \n",
            "\n",
            "Role: user \n",
            "\n",
            "describe Iscream from the series Chikn Nuggit \n",
            "\n",
            "-------------------------------------------------------------------------------- \n",
            "\n",
            "Role: model \n",
            "\n",
            "Iscream, voiced by Nate Charpentier, is a character in the Chikn Nuggit series.  They appear as an adorable, pink and white rabbit but are secretly a terrifying, genderless demon.  Their real name isn't actually \\\"Iscream,\\\" and they revel in causing chaos. Iscream is Fwench Fwy's partner.\\n \n",
            "\n",
            "-------------------------------------------------------------------------------- \n",
            "\n",
            "Role: user \n",
            "\n",
            "expand upon this description of Iscream \n",
            "\n",
            "-------------------------------------------------------------------------------- \n",
            "\n",
            "Role: model \n",
            "\n",
            "Iscream is a main character in the *Chikn Nuggit* web series, voiced by Nate Charpentier. While appearing as a cute, pink and white bunny rabbit with unsettlingly large, red eyes, Iscream is secretly a terrifying, genderless demon whose true name is unknown. They delight in sowing chaos and are known for their mischievous nature.  Despite their demonic nature and love of mayhem, Iscream is portrayed as genuinely friendly and is in a relationship with another main character, Fwench Fwy.  They are often seen together, adding another layer of intrigue to their demonic persona.\\n \n",
            "\n",
            "-------------------------------------------------------------------------------- \n",
            "\n",
            "Role: user \n",
            "\n",
            "describe how Iscream may interact with Fwench Fwy \n",
            "\n",
            "-------------------------------------------------------------------------------- \n",
            "\n",
            "Role: model \n",
            "\n",
            "Iscream and Fwench Fwy's interactions are a mix of chaotic energy and surprisingly sweet moments.  You'll often see them engaging in:\\n\\n* **Mischief and Pranks:**  They love to team up for pranks and general mayhem, often targeting Chikn Nuggit or other characters.  Iscream's demonic abilities come in handy here, while Fwench Fwy contributes with their enthusiasm and sometimes-questionable ideas.\\n\\n* **Affectionate Displays:**  Despite their chaotic nature, they're clearly very fond of each other. They might hold hands (or paws), nuzzle, or exchange affectionate glances.  These moments offer a stark contrast to their more mischievous antics.\\n\\n* **Supportive Camaraderie:**  They're supportive of each other's endeavors, even if those endeavors involve causing a bit of trouble.  They often egg each other on, but in a playful and affectionate way.\\n\\n* **Playful Banter:**  They engage in lighthearted teasing and jokes, demonstrating a comfortable and familiar dynamic.  This banter can sometimes be a bit dark, given Iscream's demonic nature, but it always comes across as good-natured.\\n\\n* **Shared Interests:** While their interests might sometimes involve causing minor chaos, they also enjoy simple things together, like hanging out with friends or participating in activities.\\n\\nEssentially, their relationship is a complex mix of chaotic energy, genuine affection, and supportive companionship.  They're partners in crime, but also partners in a more traditional sense, caring for each other despite (or perhaps because of) their shared love of mayhem.\\n \n",
            "\n",
            "-------------------------------------------------------------------------------- \n",
            "\n"
          ]
        }
      ],
      "source": [
        "# @title Show the conversation, in colab.\n",
        "import mimetypes\n",
        "\n",
        "def show_file(file_data):\n",
        "    mime_type = file_data[\"mime_type\"]\n",
        "\n",
        "    if drive_id := file_data.get(\"drive_id\", None):\n",
        "        path = next(\n",
        "            pathlib.Path(f\"/gdrive/.shortcut-targets-by-id/{drive_id}\").glob(\"*\")\n",
        "        )\n",
        "        name = path\n",
        "        # data = path.read_bytes()\n",
        "        kwargs = {\"filename\": path}\n",
        "    elif url := file_data.get(\"url\", None):\n",
        "        name = url\n",
        "        kwargs = {\"url\": url}\n",
        "        # response = requests.get(url)\n",
        "        # data = response.content\n",
        "    elif data := file_data.get(\"inline_data\", None):\n",
        "        name = None\n",
        "        kwargs = {\"data\": data}\n",
        "    elif name := file_data.get(\"filename\", None):\n",
        "        if not pathlib.Path(name).exists():\n",
        "            raise IOError(\n",
        "                f\"local file: `{name}` does not exist. You can upload files to \"\n",
        "                'Colab using the file manager (\"📁 Files\"in the left toolbar)'\n",
        "            )\n",
        "    else:\n",
        "        raise ValueError(\"Either `drive_id`, `url` or `inline_data` must be provided.\")\n",
        "\n",
        "        print(f\"File:\\n    name: {name}\\n    mime_type: {mime_type}\\n\")\n",
        "        return\n",
        "\n",
        "    format = mimetypes.guess_extension(mime_type).strip(\".\")\n",
        "    if mime_type.startswith(\"image/\"):\n",
        "        image = IPython.display.Image(**kwargs, width=256)\n",
        "        IPython.display.display(image)\n",
        "        print()\n",
        "        return\n",
        "\n",
        "    if mime_type.startswith(\"audio/\"):\n",
        "        if len(data) < 2**12:\n",
        "            audio = IPython.display.Audio(**kwargs)\n",
        "            IPython.display.display(audio)\n",
        "            print()\n",
        "            return\n",
        "\n",
        "    if mime_type.startswith(\"video/\"):\n",
        "        if len(data) < 2**12:\n",
        "            audio = IPython.display.Video(**kwargs, mimetype=mime_type)\n",
        "            IPython.display.display(audio)\n",
        "            print()\n",
        "            return\n",
        "\n",
        "    print(f\"File:\\n    name: {name}\\n    mime_type: {mime_type}\\n\")\n",
        "\n",
        "\n",
        "for content in gais_contents:\n",
        "    if role := content.get(\"role\", None):\n",
        "        print(\"Role:\", role, \"\\n\")\n",
        "\n",
        "    for n, part in enumerate(content[\"parts\"]):\n",
        "        if text := part.get(\"text\", None):\n",
        "            print(text, \"\\n\")\n",
        "\n",
        "        elif file_data := part.get(\"file_data\", None):\n",
        "            show_file(file_data)\n",
        "\n",
        "    print(\"-\" * 80, \"\\n\")"
      ]
    }
  ],
  "metadata": {
    "colab": {
      "collapsed_sections": [
        "Tce3stUlHN0L"
      ],
      "name": "aistudio_gemini_prompt_freeform.ipynb",
      "toc_visible": true,
      "provenance": []
    },
    "kernelspec": {
      "display_name": "Python 3",
      "name": "python3"
    }
  },
  "nbformat": 4,
  "nbformat_minor": 0
}